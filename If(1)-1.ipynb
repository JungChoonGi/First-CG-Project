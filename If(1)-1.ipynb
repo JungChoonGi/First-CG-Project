{
 "cells": [
  {
   "cell_type": "code",
   "execution_count": 6,
   "metadata": {},
   "outputs": [
    {
     "name": "stdout",
     "output_type": "stream",
     "text": [
      "fuck\n",
      "a is larger than b\n",
      "2\n",
      "1\n",
      "지하철 타고 가라\n"
     ]
    }
   ],
   "source": [
    "money = True\n",
    "if money : \n",
    "    print(\"fuck\")\n",
    "else :\n",
    "    print(\"you\")\n",
    "    \n",
    "    \n",
    "a = '1b'\n",
    "b = '1'\n",
    "\n",
    "if a>b :\n",
    "    print(\"a is larger than b\")\n",
    "    print(len(a))\n",
    "    print(len(b))\n",
    "else :\n",
    "    print(\"b is larger than a\")\n",
    "    \n",
    "\n",
    "money = 0\n",
    "card = 1\n",
    "if False | money : \n",
    "    print(\"택시를 타고 가라\")\n",
    "elif card :\n",
    "    print(\"지하철 타고 가라\")\n",
    "else :\n",
    "    print(\"걸어 가라\")"
   ]
  }
 ],
 "metadata": {
  "interpreter": {
   "hash": "aee8b7b246df8f9039afb4144a1f6fd8d2ca17a180786b69acc140d282b71a49"
  },
  "kernelspec": {
   "display_name": "Python 3.10.0 64-bit",
   "language": "python",
   "name": "python3"
  },
  "language_info": {
   "codemirror_mode": {
    "name": "ipython",
    "version": 3
   },
   "file_extension": ".py",
   "mimetype": "text/x-python",
   "name": "python",
   "nbconvert_exporter": "python",
   "pygments_lexer": "ipython3",
   "version": "3.10.0"
  },
  "orig_nbformat": 4
 },
 "nbformat": 4,
 "nbformat_minor": 2
}
